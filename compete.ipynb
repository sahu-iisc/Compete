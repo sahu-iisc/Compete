{
 "cells": [
  {
   "cell_type": "code",
   "execution_count": 1,
   "metadata": {},
   "outputs": [
    {
     "name": "stderr",
     "output_type": "stream",
     "text": [
      "[nltk_data] Downloading package stopwords to /home/amwin/nltk_data...\n",
      "[nltk_data]   Package stopwords is already up-to-date!\n"
     ]
    }
   ],
   "source": [
    "import warnings\n",
    "warnings.filterwarnings(\"ignore\") #never print matching warnings\n",
    "from collections import Counter\n",
    "import pandas as pd\n",
    "import pickle\n",
    "import nltk\n",
    "from nltk.corpus import stopwords\n",
    "from nltk.tokenize import word_tokenize\n",
    "import math\n",
    "import time\n",
    "import re\n",
    "import os\n",
    "nltk.download('stopwords') \n",
    "from tqdm import tqdm\n",
    "import matplotlib.pyplot as plt\n",
    "plt.rcParams.update({'figure.max_open_warning': 0})\n",
    "import numpy as np\n",
    "import seaborn as sns\n",
    "sns.set_style('whitegrid')"
   ]
  },
  {
   "cell_type": "code",
   "execution_count": 2,
   "metadata": {},
   "outputs": [],
   "source": [
    "from sklearn.feature_extraction.text import TfidfTransformer\n",
    "from sklearn.feature_extraction.text import TfidfVectorizer\n",
    "import sklearn.naive_bayes as naive"
   ]
  },
  {
   "cell_type": "code",
   "execution_count": 70,
   "metadata": {},
   "outputs": [],
   "source": [
    "df = pd.read_csv(\"Training_Data.csv\",encoding='latin-1',index_col=0)"
   ]
  },
  {
   "cell_type": "code",
   "execution_count": 56,
   "metadata": {},
   "outputs": [
    {
     "data": {
      "text/html": [
       "<div>\n",
       "<style scoped>\n",
       "    .dataframe tbody tr th:only-of-type {\n",
       "        vertical-align: middle;\n",
       "    }\n",
       "\n",
       "    .dataframe tbody tr th {\n",
       "        vertical-align: top;\n",
       "    }\n",
       "\n",
       "    .dataframe thead th {\n",
       "        text-align: right;\n",
       "    }\n",
       "</style>\n",
       "<table border=\"1\" class=\"dataframe\">\n",
       "  <thead>\n",
       "    <tr style=\"text-align: right;\">\n",
       "      <th></th>\n",
       "      <th>Sentence</th>\n",
       "      <th>Growth</th>\n",
       "      <th>Inflation</th>\n",
       "      <th>Cad</th>\n",
       "      <th>Money</th>\n",
       "      <th>Fiscal</th>\n",
       "      <th>Other</th>\n",
       "    </tr>\n",
       "  </thead>\n",
       "  <tbody>\n",
       "    <tr>\n",
       "      <td>0</td>\n",
       "      <td>Profits of listed Indian companies have remain...</td>\n",
       "      <td>0</td>\n",
       "      <td>0</td>\n",
       "      <td>0</td>\n",
       "      <td>0</td>\n",
       "      <td>0</td>\n",
       "      <td>0</td>\n",
       "    </tr>\n",
       "    <tr>\n",
       "      <td>1</td>\n",
       "      <td>On the other hand, nominal gross domestic prod...</td>\n",
       "      <td>0</td>\n",
       "      <td>0</td>\n",
       "      <td>0</td>\n",
       "      <td>0</td>\n",
       "      <td>0</td>\n",
       "      <td>0</td>\n",
       "    </tr>\n",
       "    <tr>\n",
       "      <td>2</td>\n",
       "      <td>The upshot is corporate earnings expressed as ...</td>\n",
       "      <td>0</td>\n",
       "      <td>0</td>\n",
       "      <td>0</td>\n",
       "      <td>0</td>\n",
       "      <td>0</td>\n",
       "      <td>0</td>\n",
       "    </tr>\n",
       "    <tr>\n",
       "      <td>3</td>\n",
       "      <td>Corporate profit as a percentage of GDP for th...</td>\n",
       "      <td>0</td>\n",
       "      <td>0</td>\n",
       "      <td>0</td>\n",
       "      <td>0</td>\n",
       "      <td>0</td>\n",
       "      <td>0</td>\n",
       "    </tr>\n",
       "    <tr>\n",
       "      <td>4</td>\n",
       "      <td>In fact, the measure has consistently declined...</td>\n",
       "      <td>0</td>\n",
       "      <td>0</td>\n",
       "      <td>0</td>\n",
       "      <td>0</td>\n",
       "      <td>0</td>\n",
       "      <td>0</td>\n",
       "    </tr>\n",
       "  </tbody>\n",
       "</table>\n",
       "</div>"
      ],
      "text/plain": [
       "                                            Sentence  Growth  Inflation  Cad  \\\n",
       "0  Profits of listed Indian companies have remain...       0          0    0   \n",
       "1  On the other hand, nominal gross domestic prod...       0          0    0   \n",
       "2  The upshot is corporate earnings expressed as ...       0          0    0   \n",
       "3  Corporate profit as a percentage of GDP for th...       0          0    0   \n",
       "4  In fact, the measure has consistently declined...       0          0    0   \n",
       "\n",
       "   Money  Fiscal  Other  \n",
       "0      0       0      0  \n",
       "1      0       0      0  \n",
       "2      0       0      0  \n",
       "3      0       0      0  \n",
       "4      0       0      0  "
      ]
     },
     "execution_count": 56,
     "metadata": {},
     "output_type": "execute_result"
    }
   ],
   "source": [
    "df.head(5)"
   ]
  },
  {
   "cell_type": "code",
   "execution_count": 5,
   "metadata": {},
   "outputs": [
    {
     "name": "stderr",
     "output_type": "stream",
     "text": [
      "220853it [28:12, 130.49it/s]"
     ]
    },
    {
     "name": "stdout",
     "output_type": "stream",
     "text": [
      "1694.7939119999999 seconds\n"
     ]
    },
    {
     "name": "stderr",
     "output_type": "stream",
     "text": [
      "\n"
     ]
    }
   ],
   "source": [
    "stop_words = set(stopwords.words('english'))\n",
    "\n",
    "def nlp_preprocessing(total_text, index, column):\n",
    "    if type(total_text) is not int:\n",
    "        total_text = re.sub(r'[^\\x00-\\x7f]',r'', total_text) \n",
    "        total_text = re.sub('[^A-Za-z]+', ' ', total_text)\n",
    "        total_text = ' '.join(e.lower() for e in total_text.split() if e.lower() not in stop_words)\n",
    "        df[column][index] = total_text\n",
    "    \n",
    "start_time = time.clock()\n",
    "for index, row in tqdm(df.iterrows()):\n",
    "    nlp_preprocessing(row['Sentence'],index,'Sentence')\n",
    "print(time.clock() - start_time, \"seconds\")"
   ]
  },
  {
   "cell_type": "code",
   "execution_count": 6,
   "metadata": {},
   "outputs": [],
   "source": [
    "columns = ['Sentence', 'Label']"
   ]
  },
  {
   "cell_type": "code",
   "execution_count": 9,
   "metadata": {},
   "outputs": [],
   "source": [
    "Data = pd.DataFrame(columns=columns)\n",
    "New_Data = pd.DataFrame(columns=['Sentence'])"
   ]
  },
  {
   "cell_type": "code",
   "execution_count": 10,
   "metadata": {},
   "outputs": [
    {
     "name": "stderr",
     "output_type": "stream",
     "text": [
      "220853it [18:08, 202.95it/s]\n"
     ]
    }
   ],
   "source": [
    "count = 0\n",
    "for index, row in tqdm(df.iterrows()):\n",
    "    if row['Growth'] == 1:\n",
    "        Data = Data.append({'Sentence':row['Sentence'],'Label':1,'Index': count},ignore_index=True)\n",
    "    elif row['Inflation'] == 1:\n",
    "        Data = Data.append({'Sentence':row['Sentence'],'Label':2,'Index': count},ignore_index=True)\n",
    "    elif row['Cad'] == 1:\n",
    "        Data = Data.append({'Sentence':row['Sentence'],'Label':3,'Index': count},ignore_index=True)\n",
    "    elif row['Money'] == 1:\n",
    "        Data = Data.append({'Sentence':row['Sentence'],'Label':4,'Index': count},ignore_index=True)\n",
    "    elif row['Fiscal'] == 1:\n",
    "        Data = Data.append({'Sentence':row['Sentence'],'Label':5,'Index': count},ignore_index=True)\n",
    "    elif row['Other'] == 1:\n",
    "        Data = Data.append({'Sentence':row['Sentence'],'Label':6,'Index': count},ignore_index=True)\n",
    "    else:\n",
    "        New_Data = New_Data.append({'Sentence':row['Sentence'],'Index': count},ignore_index=True)\n",
    "    count = count + 1"
   ]
  },
  {
   "cell_type": "code",
   "execution_count": 25,
   "metadata": {},
   "outputs": [
    {
     "data": {
      "text/plain": [
       "array([2, 1, 2, ..., 3, 3, 3])"
      ]
     },
     "execution_count": 25,
     "metadata": {},
     "output_type": "execute_result"
    }
   ],
   "source": [
    "labels = Data['Label'].to_numpy().astype('int')\n",
    "labels"
   ]
  },
  {
   "cell_type": "code",
   "execution_count": 12,
   "metadata": {},
   "outputs": [],
   "source": [
    "New_Data.to_csv('UnLabelled_Data.csv', index = False)\n",
    "Data.to_csv('Labelled_Data.csv', index = False)"
   ]
  },
  {
   "cell_type": "code",
   "execution_count": 7,
   "metadata": {},
   "outputs": [],
   "source": [
    "#train_data_text, test_data_text,train_data_class,test_data_class = train_test_split(Data['Sentence'], Data['Label'], test_size = 0.2, random_state=42)"
   ]
  },
  {
   "cell_type": "code",
   "execution_count": 15,
   "metadata": {},
   "outputs": [],
   "source": [
    "# text_vectorizer = TfidfVectorizer(sublinear_tf=True, max_df=0.5, smooth_idf=True) #(sublinear_tf=True, max_df=0.5, stop_words='english'), https://towardsdatascience.com/training-a-naive-bayes-model-to-identify-the-author-of-an-email-or-document-17dc85fa630a\n",
    "# features_train   = text_vectorizer.fit_transform(Data['Sentence'])\n",
    "# features_test = text_vectorizer.transform(New_Data['Sentence'])"
   ]
  },
  {
   "cell_type": "code",
   "execution_count": 14,
   "metadata": {},
   "outputs": [],
   "source": [
    "tf_idf_vect = TfidfVectorizer(ngram_range=(1,2), min_df=10)\n",
    "features_train = tf_idf_vect.fit_transform(Data['Sentence'])\n",
    "features_test = tf_idf_vect.transform(New_Data['Sentence'])"
   ]
  },
  {
   "cell_type": "code",
   "execution_count": null,
   "metadata": {},
   "outputs": [],
   "source": [
    "# tf_idf_vect = TfidfVectorizer(ngram_range=(1,2), min_df=10)\n",
    "# features_train = tf_idf_vect.fit_transform(train_data_text)\n",
    "# features_test = tf_idf_vect.transform(test_data_text)"
   ]
  },
  {
   "cell_type": "code",
   "execution_count": 28,
   "metadata": {},
   "outputs": [
    {
     "name": "stdout",
     "output_type": "stream",
     "text": [
      "{'alpha': 1}\n"
     ]
    }
   ],
   "source": [
    "# alpha_list = list()\n",
    "# for i in range(1,20,1):\n",
    "#   alpha_list.append(i)\n",
    "\n",
    "# from sklearn.model_selection import GridSearchCV\n",
    "# tuned_parameter = [{'alpha':alpha_list}]\n",
    "# clf = GridSearchCV(naive.MultinomialNB(), tuned_parameter,cv = 5, scoring='accuracy' )\n",
    "# clf.fit(features_train, train_data_class)\n",
    "# print(clf.best_params_)"
   ]
  },
  {
   "cell_type": "code",
   "execution_count": 29,
   "metadata": {},
   "outputs": [
    {
     "name": "stdout",
     "output_type": "stream",
     "text": [
      "[1 2 1 ... 1 1 2]\n",
      "\n",
      "The accuracy of multinomial Naive Bayes classifier is 88.807398%\n"
     ]
    }
   ],
   "source": [
    "# preds = clf.predict(features_test)\n",
    "# print(preds)\n",
    "# acc = accuracy_score(test_data_class, preds) * 100\n",
    "# print('\\nThe accuracy of multinomial Naive Bayes classifier is %f%%' % (acc))"
   ]
  },
  {
   "cell_type": "code",
   "execution_count": null,
   "metadata": {},
   "outputs": [],
   "source": [
    "# preds = clf.predict(features_test)"
   ]
  },
  {
   "cell_type": "code",
   "execution_count": 26,
   "metadata": {},
   "outputs": [],
   "source": [
    "svc = svm.SVC()\n",
    "svc.fit(features_train,labels)\n",
    "prediction_svc = svc.predict(features_test)"
   ]
  },
  {
   "cell_type": "code",
   "execution_count": 27,
   "metadata": {},
   "outputs": [],
   "source": [
    "New_Data['Label'] = prediction_svc"
   ]
  },
  {
   "cell_type": "code",
   "execution_count": 59,
   "metadata": {},
   "outputs": [],
   "source": [
    "frames = [Data, New_Data]\n",
    "result = pd.concat(frames)\n"
   ]
  },
  {
   "cell_type": "code",
   "execution_count": 64,
   "metadata": {},
   "outputs": [],
   "source": [
    "result['Index'] = result.astype({\"Index\": int})"
   ]
  },
  {
   "cell_type": "code",
   "execution_count": 65,
   "metadata": {},
   "outputs": [],
   "source": [
    "result.sort_values(by=['Index'], inplace = True)\n",
    "result.set_index('Index', inplace = True)"
   ]
  },
  {
   "cell_type": "code",
   "execution_count": 71,
   "metadata": {},
   "outputs": [],
   "source": [
    "for index, row in result.iterrows():\n",
    "    if row['Label'] == 1:\n",
    "        df.set_value(index,'Growth',1)\n",
    "    elif row['Label'] == 2:\n",
    "        df.set_value(index,'Inflation',1)\n",
    "    elif row['Label'] == 3:\n",
    "        df.set_value(index,'Cad',1)\n",
    "    elif row['Label'] == 4:\n",
    "        df.set_value(index,'Money',1)\n",
    "    elif row['Label'] == 5:\n",
    "        df.set_value(index,'Fiscal',1)\n",
    "    elif row['Label'] == 6:\n",
    "        df.set_value(index,'Other',1)\n"
   ]
  },
  {
   "cell_type": "code",
   "execution_count": 73,
   "metadata": {},
   "outputs": [
    {
     "data": {
      "text/html": [
       "<div>\n",
       "<style scoped>\n",
       "    .dataframe tbody tr th:only-of-type {\n",
       "        vertical-align: middle;\n",
       "    }\n",
       "\n",
       "    .dataframe tbody tr th {\n",
       "        vertical-align: top;\n",
       "    }\n",
       "\n",
       "    .dataframe thead th {\n",
       "        text-align: right;\n",
       "    }\n",
       "</style>\n",
       "<table border=\"1\" class=\"dataframe\">\n",
       "  <thead>\n",
       "    <tr style=\"text-align: right;\">\n",
       "      <th></th>\n",
       "      <th>Sentence</th>\n",
       "      <th>Growth</th>\n",
       "      <th>Inflation</th>\n",
       "      <th>Cad</th>\n",
       "      <th>Money</th>\n",
       "      <th>Fiscal</th>\n",
       "      <th>Other</th>\n",
       "    </tr>\n",
       "  </thead>\n",
       "  <tbody>\n",
       "    <tr>\n",
       "      <td>0</td>\n",
       "      <td>Profits of listed Indian companies have remain...</td>\n",
       "      <td>1</td>\n",
       "      <td>0</td>\n",
       "      <td>0</td>\n",
       "      <td>0</td>\n",
       "      <td>0</td>\n",
       "      <td>0</td>\n",
       "    </tr>\n",
       "    <tr>\n",
       "      <td>1</td>\n",
       "      <td>On the other hand, nominal gross domestic prod...</td>\n",
       "      <td>1</td>\n",
       "      <td>0</td>\n",
       "      <td>0</td>\n",
       "      <td>0</td>\n",
       "      <td>0</td>\n",
       "      <td>0</td>\n",
       "    </tr>\n",
       "    <tr>\n",
       "      <td>2</td>\n",
       "      <td>The upshot is corporate earnings expressed as ...</td>\n",
       "      <td>1</td>\n",
       "      <td>0</td>\n",
       "      <td>0</td>\n",
       "      <td>0</td>\n",
       "      <td>0</td>\n",
       "      <td>0</td>\n",
       "    </tr>\n",
       "    <tr>\n",
       "      <td>3</td>\n",
       "      <td>Corporate profit as a percentage of GDP for th...</td>\n",
       "      <td>1</td>\n",
       "      <td>0</td>\n",
       "      <td>0</td>\n",
       "      <td>0</td>\n",
       "      <td>0</td>\n",
       "      <td>0</td>\n",
       "    </tr>\n",
       "    <tr>\n",
       "      <td>4</td>\n",
       "      <td>In fact, the measure has consistently declined...</td>\n",
       "      <td>1</td>\n",
       "      <td>0</td>\n",
       "      <td>0</td>\n",
       "      <td>0</td>\n",
       "      <td>0</td>\n",
       "      <td>0</td>\n",
       "    </tr>\n",
       "    <tr>\n",
       "      <td>5</td>\n",
       "      <td>Whats more, it is also lower than the long-pe...</td>\n",
       "      <td>1</td>\n",
       "      <td>0</td>\n",
       "      <td>0</td>\n",
       "      <td>0</td>\n",
       "      <td>0</td>\n",
       "      <td>0</td>\n",
       "    </tr>\n",
       "    <tr>\n",
       "      <td>6</td>\n",
       "      <td>Aggregate profit of Indian firms is likely to ...</td>\n",
       "      <td>1</td>\n",
       "      <td>0</td>\n",
       "      <td>0</td>\n",
       "      <td>0</td>\n",
       "      <td>0</td>\n",
       "      <td>0</td>\n",
       "    </tr>\n",
       "    <tr>\n",
       "      <td>7</td>\n",
       "      <td>In addition to weak demand, the sharp fall in ...</td>\n",
       "      <td>0</td>\n",
       "      <td>1</td>\n",
       "      <td>0</td>\n",
       "      <td>0</td>\n",
       "      <td>0</td>\n",
       "      <td>0</td>\n",
       "    </tr>\n",
       "    <tr>\n",
       "      <td>8</td>\n",
       "      <td>What offers comfort, however, is that things a...</td>\n",
       "      <td>1</td>\n",
       "      <td>0</td>\n",
       "      <td>0</td>\n",
       "      <td>0</td>\n",
       "      <td>0</td>\n",
       "      <td>0</td>\n",
       "    </tr>\n",
       "    <tr>\n",
       "      <td>9</td>\n",
       "      <td>There could be improvement in the days to com...</td>\n",
       "      <td>1</td>\n",
       "      <td>0</td>\n",
       "      <td>0</td>\n",
       "      <td>0</td>\n",
       "      <td>0</td>\n",
       "      <td>0</td>\n",
       "    </tr>\n",
       "  </tbody>\n",
       "</table>\n",
       "</div>"
      ],
      "text/plain": [
       "                                            Sentence  Growth  Inflation  Cad  \\\n",
       "0  Profits of listed Indian companies have remain...       1          0    0   \n",
       "1  On the other hand, nominal gross domestic prod...       1          0    0   \n",
       "2  The upshot is corporate earnings expressed as ...       1          0    0   \n",
       "3  Corporate profit as a percentage of GDP for th...       1          0    0   \n",
       "4  In fact, the measure has consistently declined...       1          0    0   \n",
       "5  Whats more, it is also lower than the long-pe...       1          0    0   \n",
       "6  Aggregate profit of Indian firms is likely to ...       1          0    0   \n",
       "7  In addition to weak demand, the sharp fall in ...       0          1    0   \n",
       "8  What offers comfort, however, is that things a...       1          0    0   \n",
       "9  There could be improvement in the days to com...       1          0    0   \n",
       "\n",
       "   Money  Fiscal  Other  \n",
       "0      0       0      0  \n",
       "1      0       0      0  \n",
       "2      0       0      0  \n",
       "3      0       0      0  \n",
       "4      0       0      0  \n",
       "5      0       0      0  \n",
       "6      0       0      0  \n",
       "7      0       0      0  \n",
       "8      0       0      0  \n",
       "9      0       0      0  "
      ]
     },
     "execution_count": 73,
     "metadata": {},
     "output_type": "execute_result"
    }
   ],
   "source": [
    "df.head(10)"
   ]
  },
  {
   "cell_type": "code",
   "execution_count": 74,
   "metadata": {},
   "outputs": [],
   "source": [
    "df.to_csv('Output.csv', index = False)"
   ]
  },
  {
   "cell_type": "code",
   "execution_count": null,
   "metadata": {},
   "outputs": [],
   "source": []
  }
 ],
 "metadata": {
  "kernelspec": {
   "display_name": "Python 3",
   "language": "python",
   "name": "python3"
  },
  "language_info": {
   "codemirror_mode": {
    "name": "ipython",
    "version": 3
   },
   "file_extension": ".py",
   "mimetype": "text/x-python",
   "name": "python",
   "nbconvert_exporter": "python",
   "pygments_lexer": "ipython3",
   "version": "3.7.4"
  }
 },
 "nbformat": 4,
 "nbformat_minor": 2
}
